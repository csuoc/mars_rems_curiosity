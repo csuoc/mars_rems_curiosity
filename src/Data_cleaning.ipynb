{
 "cells": [
  {
   "cell_type": "markdown",
   "id": "3b35c08d",
   "metadata": {},
   "source": [
    "# MarsToday: evaluating Mars climate through REMS sensor onboard Curiosity Mars rover"
   ]
  },
  {
   "cell_type": "code",
   "execution_count": null,
   "id": "d75a19f1",
   "metadata": {},
   "outputs": [],
   "source": []
  },
  {
   "cell_type": "markdown",
   "id": "5893029c",
   "metadata": {},
   "source": [
    "## Import box"
   ]
  },
  {
   "cell_type": "code",
   "execution_count": 1,
   "id": "391cc6f3",
   "metadata": {},
   "outputs": [],
   "source": [
    "#Imports\n",
    "import pandas as pd\n",
    "import numpy as np\n",
    "import requests\n",
    "from dotenv import load_dotenv\n",
    "import os\n",
    "from pandas import json_normalize\n",
    "import re"
   ]
  },
  {
   "cell_type": "markdown",
   "id": "1628b0fe",
   "metadata": {},
   "source": [
    "## Data first visualization"
   ]
  },
  {
   "cell_type": "code",
   "execution_count": 2,
   "id": "8564d1b9",
   "metadata": {},
   "outputs": [
    {
     "data": {
      "text/html": [
       "<div>\n",
       "<style scoped>\n",
       "    .dataframe tbody tr th:only-of-type {\n",
       "        vertical-align: middle;\n",
       "    }\n",
       "\n",
       "    .dataframe tbody tr th {\n",
       "        vertical-align: top;\n",
       "    }\n",
       "\n",
       "    .dataframe thead th {\n",
       "        text-align: right;\n",
       "    }\n",
       "</style>\n",
       "<table border=\"1\" class=\"dataframe\">\n",
       "  <thead>\n",
       "    <tr style=\"text-align: right;\">\n",
       "      <th></th>\n",
       "      <th>id</th>\n",
       "      <th>terrestrial_date</th>\n",
       "      <th>sol</th>\n",
       "      <th>ls</th>\n",
       "      <th>month</th>\n",
       "      <th>min_temp</th>\n",
       "      <th>max_temp</th>\n",
       "      <th>pressure</th>\n",
       "      <th>wind_speed</th>\n",
       "      <th>atmo_opacity</th>\n",
       "    </tr>\n",
       "  </thead>\n",
       "  <tbody>\n",
       "    <tr>\n",
       "      <th>0</th>\n",
       "      <td>1895</td>\n",
       "      <td>2018-02-27</td>\n",
       "      <td>1977</td>\n",
       "      <td>135</td>\n",
       "      <td>Month 5</td>\n",
       "      <td>-77.0</td>\n",
       "      <td>-10.0</td>\n",
       "      <td>727.0</td>\n",
       "      <td>NaN</td>\n",
       "      <td>Sunny</td>\n",
       "    </tr>\n",
       "    <tr>\n",
       "      <th>1</th>\n",
       "      <td>1893</td>\n",
       "      <td>2018-02-26</td>\n",
       "      <td>1976</td>\n",
       "      <td>135</td>\n",
       "      <td>Month 5</td>\n",
       "      <td>-77.0</td>\n",
       "      <td>-10.0</td>\n",
       "      <td>728.0</td>\n",
       "      <td>NaN</td>\n",
       "      <td>Sunny</td>\n",
       "    </tr>\n",
       "    <tr>\n",
       "      <th>2</th>\n",
       "      <td>1894</td>\n",
       "      <td>2018-02-25</td>\n",
       "      <td>1975</td>\n",
       "      <td>134</td>\n",
       "      <td>Month 5</td>\n",
       "      <td>-76.0</td>\n",
       "      <td>-16.0</td>\n",
       "      <td>729.0</td>\n",
       "      <td>NaN</td>\n",
       "      <td>Sunny</td>\n",
       "    </tr>\n",
       "    <tr>\n",
       "      <th>3</th>\n",
       "      <td>1892</td>\n",
       "      <td>2018-02-24</td>\n",
       "      <td>1974</td>\n",
       "      <td>134</td>\n",
       "      <td>Month 5</td>\n",
       "      <td>-77.0</td>\n",
       "      <td>-13.0</td>\n",
       "      <td>729.0</td>\n",
       "      <td>NaN</td>\n",
       "      <td>Sunny</td>\n",
       "    </tr>\n",
       "    <tr>\n",
       "      <th>4</th>\n",
       "      <td>1889</td>\n",
       "      <td>2018-02-23</td>\n",
       "      <td>1973</td>\n",
       "      <td>133</td>\n",
       "      <td>Month 5</td>\n",
       "      <td>-78.0</td>\n",
       "      <td>-18.0</td>\n",
       "      <td>730.0</td>\n",
       "      <td>NaN</td>\n",
       "      <td>Sunny</td>\n",
       "    </tr>\n",
       "    <tr>\n",
       "      <th>...</th>\n",
       "      <td>...</td>\n",
       "      <td>...</td>\n",
       "      <td>...</td>\n",
       "      <td>...</td>\n",
       "      <td>...</td>\n",
       "      <td>...</td>\n",
       "      <td>...</td>\n",
       "      <td>...</td>\n",
       "      <td>...</td>\n",
       "      <td>...</td>\n",
       "    </tr>\n",
       "    <tr>\n",
       "      <th>1889</th>\n",
       "      <td>24</td>\n",
       "      <td>2012-08-18</td>\n",
       "      <td>12</td>\n",
       "      <td>156</td>\n",
       "      <td>Month 6</td>\n",
       "      <td>-76.0</td>\n",
       "      <td>-18.0</td>\n",
       "      <td>741.0</td>\n",
       "      <td>NaN</td>\n",
       "      <td>Sunny</td>\n",
       "    </tr>\n",
       "    <tr>\n",
       "      <th>1890</th>\n",
       "      <td>13</td>\n",
       "      <td>2012-08-17</td>\n",
       "      <td>11</td>\n",
       "      <td>156</td>\n",
       "      <td>Month 6</td>\n",
       "      <td>-76.0</td>\n",
       "      <td>-11.0</td>\n",
       "      <td>740.0</td>\n",
       "      <td>NaN</td>\n",
       "      <td>Sunny</td>\n",
       "    </tr>\n",
       "    <tr>\n",
       "      <th>1891</th>\n",
       "      <td>2</td>\n",
       "      <td>2012-08-16</td>\n",
       "      <td>10</td>\n",
       "      <td>155</td>\n",
       "      <td>Month 6</td>\n",
       "      <td>-75.0</td>\n",
       "      <td>-16.0</td>\n",
       "      <td>739.0</td>\n",
       "      <td>NaN</td>\n",
       "      <td>Sunny</td>\n",
       "    </tr>\n",
       "    <tr>\n",
       "      <th>1892</th>\n",
       "      <td>232</td>\n",
       "      <td>2012-08-15</td>\n",
       "      <td>9</td>\n",
       "      <td>155</td>\n",
       "      <td>Month 6</td>\n",
       "      <td>NaN</td>\n",
       "      <td>NaN</td>\n",
       "      <td>NaN</td>\n",
       "      <td>NaN</td>\n",
       "      <td>Sunny</td>\n",
       "    </tr>\n",
       "    <tr>\n",
       "      <th>1893</th>\n",
       "      <td>1</td>\n",
       "      <td>2012-08-07</td>\n",
       "      <td>1</td>\n",
       "      <td>150</td>\n",
       "      <td>Month 6</td>\n",
       "      <td>NaN</td>\n",
       "      <td>NaN</td>\n",
       "      <td>NaN</td>\n",
       "      <td>NaN</td>\n",
       "      <td>Sunny</td>\n",
       "    </tr>\n",
       "  </tbody>\n",
       "</table>\n",
       "<p>1894 rows × 10 columns</p>\n",
       "</div>"
      ],
      "text/plain": [
       "        id terrestrial_date   sol   ls    month  min_temp  max_temp  pressure  \\\n",
       "0     1895       2018-02-27  1977  135  Month 5     -77.0     -10.0     727.0   \n",
       "1     1893       2018-02-26  1976  135  Month 5     -77.0     -10.0     728.0   \n",
       "2     1894       2018-02-25  1975  134  Month 5     -76.0     -16.0     729.0   \n",
       "3     1892       2018-02-24  1974  134  Month 5     -77.0     -13.0     729.0   \n",
       "4     1889       2018-02-23  1973  133  Month 5     -78.0     -18.0     730.0   \n",
       "...    ...              ...   ...  ...      ...       ...       ...       ...   \n",
       "1889    24       2012-08-18    12  156  Month 6     -76.0     -18.0     741.0   \n",
       "1890    13       2012-08-17    11  156  Month 6     -76.0     -11.0     740.0   \n",
       "1891     2       2012-08-16    10  155  Month 6     -75.0     -16.0     739.0   \n",
       "1892   232       2012-08-15     9  155  Month 6       NaN       NaN       NaN   \n",
       "1893     1       2012-08-07     1  150  Month 6       NaN       NaN       NaN   \n",
       "\n",
       "      wind_speed atmo_opacity  \n",
       "0            NaN        Sunny  \n",
       "1            NaN        Sunny  \n",
       "2            NaN        Sunny  \n",
       "3            NaN        Sunny  \n",
       "4            NaN        Sunny  \n",
       "...          ...          ...  \n",
       "1889         NaN        Sunny  \n",
       "1890         NaN        Sunny  \n",
       "1891         NaN        Sunny  \n",
       "1892         NaN        Sunny  \n",
       "1893         NaN        Sunny  \n",
       "\n",
       "[1894 rows x 10 columns]"
      ]
     },
     "execution_count": 2,
     "metadata": {},
     "output_type": "execute_result"
    }
   ],
   "source": [
    "weather = pd.read_csv(\"../data/mars-weather.csv\")\n",
    "weather"
   ]
  },
  {
   "cell_type": "markdown",
   "id": "d7436792",
   "metadata": {},
   "source": [
    "## Connection with NASA API"
   ]
  },
  {
   "cell_type": "code",
   "execution_count": 18,
   "id": "adb7c6b4",
   "metadata": {},
   "outputs": [
    {
     "data": {
      "text/plain": [
       "True"
      ]
     },
     "execution_count": 18,
     "metadata": {},
     "output_type": "execute_result"
    }
   ],
   "source": [
    "load_dotenv()"
   ]
  },
  {
   "cell_type": "code",
   "execution_count": 23,
   "id": "2717a27d",
   "metadata": {},
   "outputs": [],
   "source": [
    "# This is a function to call NASA api with a given value of Sol day and Camera type.\n",
    "\n",
    "def call_NASA (sol,camera):\n",
    "    \"\"\"\n",
    "    This is a function that calls NASA API 'Mars Rover Photos' with two arguments. It returns the url from\n",
    "    a specific camera onboard Curiosity rover.\n",
    "    sol: input Sol value (1-1894) as INTEGER,\n",
    "    camera: select between FHAZ, RHAZ, MAST, CHEMCAM, MAHLI, MARDI, NAVCAM, PANCAM, MINITES, as STRING\n",
    "    \n",
    "    \"\"\"\n",
    "        \n",
    "    try:\n",
    "        nasa = os.getenv(\"token\")\n",
    "        url = f\"https://api.nasa.gov/mars-photos/api/v1/rovers/curiosity/photos?sol={sol}&camera={camera}&api_key={nasa}\"\n",
    "        request = requests.get(url)\n",
    "        df = pd.DataFrame(request.json())\n",
    "        df_clean = pd.DataFrame(df.values[0][0])\n",
    "        image_url = list(df_clean[\"img_src\"])[0]\n",
    "                \n",
    "        return f\"Image available for camera {camera}: {image_url}\"\n",
    "            \n",
    "    except:\n",
    "            \n",
    "            return f\"No image available in Sol {sol} for camera {camera}, please select another Sol day\"    "
   ]
  },
  {
   "cell_type": "code",
   "execution_count": 24,
   "id": "f5350702",
   "metadata": {},
   "outputs": [],
   "source": [
    "def get_pictures(sol):\n",
    "    \n",
    "    \"\"\"\n",
    "    This is a function that calls call_NASA function with one argument. It returns the url of all the pictures \n",
    "    taken by all the cameras of Curiosity rover from a specific Sol date.\n",
    "    sol: input Sol value (1-current sol number) as INTEGER.\n",
    "    \n",
    "    \"\"\"       \n",
    "    cameralist = [\"FHAZ\", \"RHAZ\", \"MAST\", \"CHEMCAM\", \"MAHLI\", \"MARDI\", \"NAVCAM\", \"PANCAM\", \"MINITES\"]\n",
    "    for i in cameralist:\n",
    "        print(call_NASA(sol, i))\n",
    "    pass"
   ]
  },
  {
   "cell_type": "markdown",
   "id": "5c2ce428",
   "metadata": {},
   "source": [
    "# API call"
   ]
  },
  {
   "cell_type": "code",
   "execution_count": 31,
   "id": "1be5fd77",
   "metadata": {},
   "outputs": [
    {
     "name": "stdout",
     "output_type": "stream",
     "text": [
      "Image available for camera FHAZ: https://mars.nasa.gov/msl-raw-images/proj/msl/redops/ods/surface/sol/03626/opgs/edr/fcam/FLB_719396719EDR_F0971918FHAZ00302M_.JPG\n",
      "Image available for camera RHAZ: https://mars.nasa.gov/msl-raw-images/proj/msl/redops/ods/surface/sol/03626/opgs/edr/rcam/RLB_719396766EDR_S0971918RHAZ00300M_.JPG\n",
      "Image available for camera MAST: https://mars.nasa.gov/msl-raw-images/msss/03626/mcam/3626ML1029340040209331C00_DXXX.jpg\n",
      "Image available for camera CHEMCAM: https://mars.nasa.gov/msl-raw-images/proj/msl/redops/ods/surface/sol/03626/opgs/edr/ccam/CR0_719388758EDR_F0971734CCAM02626M_.JPG\n",
      "Image available for camera MAHLI: https://mars.nasa.gov/msl-raw-images/msss/03626/mhli/3626MH0001220011301172C00_DXXX.jpg\n",
      "Image available for camera MARDI: https://mars.nasa.gov/msl-raw-images/msss/03626/mrdi/3626MD0013580000300001E01_DXXX.jpg\n",
      "Image available for camera NAVCAM: https://mars.nasa.gov/msl-raw-images/proj/msl/redops/ods/surface/sol/03626/opgs/edr/ncam/NLB_719400712EDR_F0971918NCAM00353M_.JPG\n",
      "No image available in Sol 3626 for camera PANCAM, please select another Sol day\n",
      "No image available in Sol 3626 for camera MINITES, please select another Sol day\n"
     ]
    }
   ],
   "source": [
    "get_pictures(3626)"
   ]
  },
  {
   "cell_type": "code",
   "execution_count": null,
   "id": "e716d6bd",
   "metadata": {},
   "outputs": [],
   "source": []
  }
 ],
 "metadata": {
  "kernelspec": {
   "display_name": "Python 3 (ipykernel)",
   "language": "python",
   "name": "python3"
  },
  "language_info": {
   "codemirror_mode": {
    "name": "ipython",
    "version": 3
   },
   "file_extension": ".py",
   "mimetype": "text/x-python",
   "name": "python",
   "nbconvert_exporter": "python",
   "pygments_lexer": "ipython3",
   "version": "3.9.13"
  },
  "toc": {
   "base_numbering": 1,
   "nav_menu": {},
   "number_sections": true,
   "sideBar": true,
   "skip_h1_title": false,
   "title_cell": "Table of Contents",
   "title_sidebar": "Contents",
   "toc_cell": false,
   "toc_position": {
    "height": "calc(100% - 180px)",
    "left": "10px",
    "top": "150px",
    "width": "253.275px"
   },
   "toc_section_display": true,
   "toc_window_display": true
  }
 },
 "nbformat": 4,
 "nbformat_minor": 5
}
