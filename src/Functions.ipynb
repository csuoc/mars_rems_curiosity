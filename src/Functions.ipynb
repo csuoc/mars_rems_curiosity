{
 "cells": [
  {
   "cell_type": "code",
   "execution_count": 12,
   "id": "5ce00a0c",
   "metadata": {},
   "outputs": [
    {
     "data": {
      "text/plain": [
       "True"
      ]
     },
     "execution_count": 12,
     "metadata": {},
     "output_type": "execute_result"
    }
   ],
   "source": [
    "from dotenv import load_dotenv\n",
    "import os\n",
    "import requests\n",
    "import pandas as pd\n",
    "from pandas import json_normalize\n",
    "from IPython.display import Image\n",
    "from IPython.core.display import HTML\n",
    "load_dotenv()"
   ]
  },
  {
   "cell_type": "code",
   "execution_count": 2,
   "id": "44a27af0",
   "metadata": {},
   "outputs": [],
   "source": [
    "# Function to remove undesired columns\n",
    "\n",
    "def remove_columns(df, column_name):\n",
    "    \n",
    "    \"\"\"\n",
    "    This is a function that removes undesired columns. Requires two arguments.\n",
    "    Arguments: dataframe, column name\n",
    "    Input: the current dataframe\n",
    "    Output: the current dataframe without the selected columns\n",
    "    \"\"\"\n",
    "    \n",
    "    df.drop(columns=f\"{column_name}\", inplace=True)\n",
    "    \n",
    "    return df.sample(2)"
   ]
  },
  {
   "cell_type": "code",
   "execution_count": 3,
   "id": "48eb983f",
   "metadata": {},
   "outputs": [],
   "source": [
    "# Function to rename columns\n",
    "\n",
    "def rename_columns(df, old_name, new_name):\n",
    "    \n",
    "    \"\"\"\n",
    "    This a functions that renames the name of any given columns. Requires three arguments.\n",
    "    Arguments: dataframe, old name of the column, new name of the column.\n",
    "    Input: the current column name\n",
    "    Output: the column renamed\n",
    "    \"\"\"\n",
    "    \n",
    "    df.rename(columns={f\"{old_name}\": f\"{new_name}\"}, inplace=True)\n",
    "    return df.sample(2)"
   ]
  },
  {
   "cell_type": "code",
   "execution_count": 4,
   "id": "a2d767cc",
   "metadata": {},
   "outputs": [],
   "source": [
    "# Function to clean the atmosphere column\n",
    "\n",
    "def clean_atmosphere(df,column_name,string,replacement):\n",
    "    \n",
    "    \"\"\"\n",
    "    This a function that cleans the Atmospheric opacity columns by replacing its elements.\n",
    "    Requires three arguments.\n",
    "    Arguments: dataframe, column name, string to replace, new string.\n",
    "    Input: any string\n",
    "    Output: a string\n",
    "    \"\"\"\n",
    "    \n",
    "    df[f\"{column_name}\"] = df[f\"{column_name}\"].replace(f\"{string}\",f\"{replacement}\")    \n",
    "    return df.sample(2)"
   ]
  },
  {
   "cell_type": "code",
   "execution_count": 5,
   "id": "b9c3fd11",
   "metadata": {},
   "outputs": [],
   "source": [
    "# Function to clean the month column\n",
    "\n",
    "def clean_month(df,column_name):\n",
    "    \n",
    "    \"\"\"\n",
    "    This is a function that cleans the Month column. Requires two arguments. Removes unwanted strings and only keeps the value\n",
    "    Arguments: dataframe, column name\n",
    "    Input: string + digit\n",
    "    Output: digit\n",
    "    \"\"\"\n",
    "    \n",
    "    df[f\"{column_name}\"] = df[f\"{column_name}\"].str.extract(r\"(\\d)\")    \n",
    "    return df.sample(2)"
   ]
  },
  {
   "cell_type": "code",
   "execution_count": 6,
   "id": "7aa03242",
   "metadata": {},
   "outputs": [],
   "source": [
    "# Function to convert degrees Fahrenheit to degrees Celsius\n",
    "\n",
    "def FtoC(df, column_name):\n",
    "    \n",
    "    \"\"\"\n",
    "    This is a function that converts any temperature in degrees Fahrenheit to degrees Celsius.\n",
    "    Requires two arguments.\n",
    "    Arguments: dataframe, column name\n",
    "    Input: an INTEGER in Fahrenheit degrees\n",
    "    Output: an INTEGER in Celsius degrees\n",
    "    \"\"\"\n",
    "    \n",
    "    df[f\"{column_name}\"] = [((i - 32.0) * 5.0/9.0) for i in df[f\"{column_name}\"]]\n",
    "\n",
    "    return df.sample(2)"
   ]
  },
  {
   "cell_type": "code",
   "execution_count": 7,
   "id": "e74b58b6",
   "metadata": {},
   "outputs": [],
   "source": [
    "# Function to convert milibar to Pascals\n",
    "\n",
    "def mbartoPa(df, column_name):\n",
    "    \n",
    "    \"\"\"\n",
    "    This is a function that converts any temperature in degrees Fahrenheit to degrees Celsius.\n",
    "    Requires two arguments.\n",
    "    Arguments: dataframe, column name\n",
    "    Input: an INTEGER in Fahrenheit degrees\n",
    "    Output: an INTEGER in Celsius degrees\n",
    "    \"\"\"\n",
    "    \n",
    "    df[f\"{column_name}\"] = [i*100 for i in df[f\"{column_name}\"]]\n",
    "\n",
    "    return df.sample(2)"
   ]
  },
  {
   "cell_type": "code",
   "execution_count": 8,
   "id": "a832f5a9",
   "metadata": {},
   "outputs": [],
   "source": [
    "# Function to round decimals from floats\n",
    "\n",
    "def roundval(df, column_name, n):\n",
    "    \"\"\"\n",
    "    This is a function that rounds any float to a given n value. Requires three arguments.\n",
    "    Arguments: dataframe, name of the column where you want to rewrite the values, value of the round\n",
    "    Input: a float with multiple decimals\n",
    "    Output: a float with n decimals\n",
    "    \"\"\"\n",
    "    df[f\"{column_name}\"] = [round(i,n) for i in df[f\"{column_name}\"]]\n",
    "    return df.sample(2)"
   ]
  },
  {
   "cell_type": "code",
   "execution_count": 9,
   "id": "9edf951b",
   "metadata": {},
   "outputs": [],
   "source": [
    "# This is a function to call NASA api with a given a specific date and Camera type.\n",
    "\n",
    "def call_Curiosity (date, camera):\n",
    "    \"\"\"\n",
    "    This is a function that calls NASA API 'Mars Rover Photos' with two arguments. It returns the url from\n",
    "    a specific camera onboard Curiosity rover.\n",
    "    date: input the desired date in the format YYYY-MM-DD as a STRING,\n",
    "    camera: select between FHAZ, RHAZ, MAST, CHEMCAM, MAHLI, MARDI, NAVCAM, PANCAM, MINITES, as STRING\n",
    "    \n",
    "    \"\"\"\n",
    "        \n",
    "    try:\n",
    "        nasa = os.getenv(\"token\")\n",
    "        url = f\"https://api.nasa.gov/mars-photos/api/v1/rovers/curiosity/photos?earth_date={date}&camera={camera}&api_key={nasa}\"\n",
    "        request = requests.get(url)\n",
    "        df = pd.DataFrame(request.json())\n",
    "        df_clean = pd.DataFrame(df.values[0][0])\n",
    "        image_url = list(df_clean[\"img_src\"])[0]\n",
    "        display(Image(image_url, width=300, height=200))\n",
    "        \n",
    "        return f\"Image available for camera {camera} onboard Curiosity rover\"\n",
    "\n",
    "    except:\n",
    "            \n",
    "        return f\"No image available on {date} for camera {camera} onboard Curiosity rover, please select another date\""
   ]
  },
  {
   "cell_type": "code",
   "execution_count": 10,
   "id": "a283db76",
   "metadata": {},
   "outputs": [],
   "source": [
    "def get_pictures_Curiosity(date):\n",
    "    \n",
    "    \"\"\"\n",
    "    This is a function that calls call_NASA function with one argument. It returns the url of all the pictures \n",
    "    taken by all the cameras of Curiosity rover from a specific Sol date.\n",
    "    date: input the desired date in the format YYYY-MM-DD as STRING.\n",
    "    \n",
    "    \"\"\"       \n",
    "    cameralist = [\"FHAZ\", \"RHAZ\", \"MAST\", \"CHEMCAM\", \"MAHLI\", \"MARDI\", \"NAVCAM\", \"PANCAM\", \"MINITES\"]\n",
    "    for i in cameralist:\n",
    "        print(call_Curiosity(date, i))\n",
    "    pass"
   ]
  }
 ],
 "metadata": {
  "kernelspec": {
   "display_name": "Python 3 (ipykernel)",
   "language": "python",
   "name": "python3"
  },
  "language_info": {
   "codemirror_mode": {
    "name": "ipython",
    "version": 3
   },
   "file_extension": ".py",
   "mimetype": "text/x-python",
   "name": "python",
   "nbconvert_exporter": "python",
   "pygments_lexer": "ipython3",
   "version": "3.9.13"
  },
  "toc": {
   "base_numbering": 1,
   "nav_menu": {},
   "number_sections": true,
   "sideBar": true,
   "skip_h1_title": false,
   "title_cell": "Table of Contents",
   "title_sidebar": "Contents",
   "toc_cell": false,
   "toc_position": {},
   "toc_section_display": true,
   "toc_window_display": false
  }
 },
 "nbformat": 4,
 "nbformat_minor": 5
}
